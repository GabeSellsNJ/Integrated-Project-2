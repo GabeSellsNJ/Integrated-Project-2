{
 "cells": [
  {
   "attachments": {},
   "cell_type": "markdown",
   "metadata": {},
   "source": [
    "Introduction"
   ]
  },
  {
   "cell_type": "code",
   "execution_count": 68,
   "metadata": {},
   "outputs": [
    {
     "name": "stdout",
     "output_type": "stream",
     "text": [
      "<class 'pandas.core.frame.DataFrame'>\n",
      "RangeIndex: 16715 entries, 0 to 16714\n",
      "Data columns (total 11 columns):\n",
      " #   Column           Non-Null Count  Dtype  \n",
      "---  ------           --------------  -----  \n",
      " 0   name             16713 non-null  object \n",
      " 1   platform         16715 non-null  object \n",
      " 2   year_of_release  16446 non-null  float64\n",
      " 3   genre            16713 non-null  object \n",
      " 4   na_sales         16715 non-null  float64\n",
      " 5   eu_sales         16715 non-null  float64\n",
      " 6   jp_sales         16715 non-null  float64\n",
      " 7   other_sales      16715 non-null  float64\n",
      " 8   critic_score     8137 non-null   float64\n",
      " 9   user_score       10014 non-null  object \n",
      " 10  rating           9949 non-null   object \n",
      "dtypes: float64(6), object(5)\n",
      "memory usage: 1.4+ MB\n"
     ]
    }
   ],
   "source": [
    "#import libraries\n",
    "import pandas as pd\n",
    "import numpy as np\n",
    "\n",
    "\n",
    "#import data and print info\n",
    "df = pd.read_csv('games.csv')\n",
    "\n",
    "#make column names lowercase\n",
    "df.columns= df.columns.str.lower()\n",
    "\n",
    "df.info()"
   ]
  },
  {
   "cell_type": "code",
   "execution_count": 69,
   "metadata": {},
   "outputs": [
    {
     "name": "stdout",
     "output_type": "stream",
     "text": [
      "<class 'pandas.core.frame.DataFrame'>\n",
      "RangeIndex: 16715 entries, 0 to 16714\n",
      "Data columns (total 12 columns):\n",
      " #   Column           Non-Null Count  Dtype  \n",
      "---  ------           --------------  -----  \n",
      " 0   name             16715 non-null  object \n",
      " 1   platform         16715 non-null  object \n",
      " 2   year_of_release  16715 non-null  Int64  \n",
      " 3   genre            16715 non-null  object \n",
      " 4   na_sales         16715 non-null  float64\n",
      " 5   eu_sales         16715 non-null  float64\n",
      " 6   jp_sales         16715 non-null  float64\n",
      " 7   other_sales      16715 non-null  float64\n",
      " 8   critic_score     8137 non-null   float64\n",
      " 9   user_score       7590 non-null   float64\n",
      " 10  rating           9949 non-null   object \n",
      " 11  total_sales      16715 non-null  float64\n",
      "dtypes: Int64(1), float64(7), object(4)\n",
      "memory usage: 1.5+ MB\n"
     ]
    },
    {
     "name": "stderr",
     "output_type": "stream",
     "text": [
      "/var/folders/fm/s08r35qn1p14b7l9h6gn_z5h0000gn/T/ipykernel_8915/3749965679.py:44: SettingWithCopyWarning: \n",
      "A value is trying to be set on a copy of a slice from a DataFrame\n",
      "\n",
      "See the caveats in the documentation: https://pandas.pydata.org/pandas-docs/stable/user_guide/indexing.html#returning-a-view-versus-a-copy\n",
      "  df.query(\"total_sales >= @ptile_80_sales\").fillna(above_eighty_avg_critic, inplace=True)\n",
      "/var/folders/fm/s08r35qn1p14b7l9h6gn_z5h0000gn/T/ipykernel_8915/3749965679.py:45: SettingWithCopyWarning: \n",
      "A value is trying to be set on a copy of a slice from a DataFrame\n",
      "\n",
      "See the caveats in the documentation: https://pandas.pydata.org/pandas-docs/stable/user_guide/indexing.html#returning-a-view-versus-a-copy\n",
      "  df.query(\"total_sales >= @ptile_60_sales & total_sales < @ptile_80_sales\").fillna(sixty_to_eighty_avg_critic, inplace=True)\n",
      "/var/folders/fm/s08r35qn1p14b7l9h6gn_z5h0000gn/T/ipykernel_8915/3749965679.py:46: SettingWithCopyWarning: \n",
      "A value is trying to be set on a copy of a slice from a DataFrame\n",
      "\n",
      "See the caveats in the documentation: https://pandas.pydata.org/pandas-docs/stable/user_guide/indexing.html#returning-a-view-versus-a-copy\n",
      "  df.query(\"total_sales >= @ptile_40_sales & total_sales < @ptile_60_sales\").fillna(forty_to_sixty_avg_critic, inplace=True)\n",
      "/var/folders/fm/s08r35qn1p14b7l9h6gn_z5h0000gn/T/ipykernel_8915/3749965679.py:47: SettingWithCopyWarning: \n",
      "A value is trying to be set on a copy of a slice from a DataFrame\n",
      "\n",
      "See the caveats in the documentation: https://pandas.pydata.org/pandas-docs/stable/user_guide/indexing.html#returning-a-view-versus-a-copy\n",
      "  df.query(\"total_sales >= @ptile_20_sales & total_sales < @ptile_40_sales\").fillna(twenty_to_forty_avg_critic, inplace=True)\n",
      "/var/folders/fm/s08r35qn1p14b7l9h6gn_z5h0000gn/T/ipykernel_8915/3749965679.py:48: SettingWithCopyWarning: \n",
      "A value is trying to be set on a copy of a slice from a DataFrame\n",
      "\n",
      "See the caveats in the documentation: https://pandas.pydata.org/pandas-docs/stable/user_guide/indexing.html#returning-a-view-versus-a-copy\n",
      "  df.query(\"total_sales < @per_20_sales\").fillna(twenty_below_avg_critic, inplace=True)\n"
     ]
    },
    {
     "data": {
      "text/plain": [
       "'\\ndf_above_80 = df.query(\"total_sales >= @ptile_80_sales\")\\ndf_60_to_80 = df.query(\"total_sales >= @ptile_60_sales & total_sales < @ptile_80_sales\")\\ndf_40_to_60 = df.query(\"total_sales >= @ptile_40_sales & total_sales < @ptile_60_sales\")\\ndf_20_to_40 = df.query(\"total_sales >= @ptile_20_sales & total_sales < @ptile_40_sales\")\\ndf_below_20 = df.query(\"total_sales < @per_20_sales\")\\n\\ndf_above_80[\\'critic_score\\'] = df_above_80[\\'critic_score\\'].fillna(above_eighty_avg_critic)\\ndf_above_80[\\'user_score\\'] = df_above_80[\\'user_score\\'].fillna(above_eighty_avg_user)\\n\\ndf_60_to_80[\\'critic_score\\'] = df_60_to_80[\\'critic_score\\'].fillna(sixty_to_eighty_avg_critic)\\ndf_60_to_80[\\'user_score\\'] = df_60_to_80[\\'user_score\\'].fillna(sixty_to_eighty_avg_user)\\n\\ndf_40_to_60[\\'critic_score\\'] = df_40_to_60[\\'critic_score\\'].fillna(forty_to_sixty_avg_critic)\\ndf_40_to_60[\\'user_score\\'] = df_40_to_60[\\'user_score\\'].fillna(forty_to_sixty_avg_user)\\n\\ndf_20_to_40[\\'critic_score\\'] = df_20_to_40[\\'critic_score\\'].fillna(twenty_to_forty_avg_critic)\\ndf_20_to_40[\\'user_score\\'] = df_20_to_40[\\'user_score\\'].fillna(twenty_to_forty_avg_user)\\n\\ndf_below_20[\\'critic_score\\'] = df_below_20[\\'critic_score\\'].fillna(twenty_below_avg_critic)\\ndf_below_20[\\'user_score\\'] = df_below_20 [\\'user_score\\'].fillna(twenty_below_avg_user)\\n'"
      ]
     },
     "execution_count": 69,
     "metadata": {},
     "output_type": "execute_result"
    }
   ],
   "source": [
    "df['name'] = df['name'].fillna('unknown')\n",
    "df['genre'] = df['name'].fillna('unknown')\n",
    "\n",
    "df['total_sales'] = df['na_sales'] + df['eu_sales'] + df['jp_sales'] + df['other_sales']\n",
    "\n",
    "df['user_score'] = pd.to_numeric(df['user_score'],errors='coerce')\n",
    "\n",
    "df.sort_values(by='total_sales', ascending=False)\n",
    "\n",
    "year_avg = df['year_of_release'].median()\n",
    "df['year_of_release'] = df['year_of_release'].fillna(year_avg)\n",
    "df['year_of_release'] = df['year_of_release'].astype('Int64')\n",
    "\n",
    "ptile_80_sales = np.percentile(df['total_sales'], 80)\n",
    "ptile_60_sales = np.percentile(df['total_sales'], 60)\n",
    "ptile_40_sales = np.percentile(df['total_sales'], 40)\n",
    "ptile_20_sales = np.percentile(df['total_sales'], 20)\n",
    "\n",
    "above_eighty_avg_critic = df.query(\"total_sales >= @ptile_80_sales\")['critic_score'].mean()\n",
    "above_eighty_avg_critic = round(above_eighty_avg_critic)\n",
    "above_eighty_avg_user = df.query(\"total_sales >= @ptile_80_sales\")['user_score'].mean()\n",
    "above_eighty_avg_user = round(above_eighty_avg_user,1)\n",
    "\n",
    "sixty_to_eighty_avg_critic = df.query(\"total_sales >= @ptile_60_sales & total_sales < @ptile_80_sales\")['critic_score'].mean()\n",
    "sixty_to_eighty_avg_critic = round(sixty_to_eighty_avg_critic)\n",
    "sixty_to_eighty_avg_user = df.query(\"total_sales >= @ptile_60_sales & total_sales < @ptile_80_sales\")['user_score'].mean()\n",
    "sixty_to_eighty_avg_user= round(sixty_to_eighty_avg_user,1)\n",
    "\n",
    "forty_to_sixty_avg_critic = df.query(\"total_sales >= @ptile_40_sales & total_sales < @ptile_60_sales\")['critic_score'].mean()\n",
    "forty_to_sixty_avg_critic = round(forty_to_sixty_avg_critic)\n",
    "forty_to_sixty_avg_user = df.query(\"total_sales >= @ptile_40_sales & total_sales < @ptile_60_sales\")['user_score'].mean()\n",
    "forty_to_sixty_avg_user = round(forty_to_sixty_avg_user,1)\n",
    "\n",
    "twenty_to_forty_avg_critic = df.query(\"total_sales >= @ptile_20_sales & total_sales < @ptile_40_sales\")['critic_score'].mean()\n",
    "twenty_to_forty_avg_critic = round(twenty_to_forty_avg_critic)\n",
    "twenty_to_forty_avg_user = df.query(\"total_sales >= @ptile_20_sales & total_sales < @ptile_40_sales\")['user_score'].mean()\n",
    "twenty_to_forty_avg_user = round(twenty_to_forty_avg_user,1)\n",
    "\n",
    "twenty_below_avg_critic = df.query(\"total_sales < @per_20_sales\")['critic_score'].mean()\n",
    "twenty_below_avg_critic = round(twenty_below_avg_critic)\n",
    "twenty_below_avg_user = df.query(\"total_sales < @per_20_sales\")['user_score'].mean()\n",
    "twenty_below_avg_user = round(twenty_below_avg_user,1)\n",
    "\n",
    "for i in len(df['critic_score']:\n",
    "    if df.loc[i,'total_sales'] >= ptile_80_sales:\n",
    "        if df.loc[i,'critic_score'].isna() = True:\n",
    "            df.loc[i,'critic_score'] = above_eighty_avg_critic\n",
    "    if ptile_60_sales <= df.loc[i,'total_sales'] < ptile_80_sales:\n",
    "        if df.loc[i,'critic_score'].isna() = True:\n",
    "            df.loc[i,'critic_score'] = sixty_to_eighty_avg_critic\n",
    "    if ptile_40_sales <= df.loc[i,'total_sales'] < ptile_60_sales:\n",
    "        if df.loc[i,'critic_score'].isna() = True:\n",
    "            df.loc[i,'critic_score'] = forty_to_sixty_avg_critic\n",
    "    if ptile_20_sales <= df.loc[i,'total_sales'] < ptile_40_sales:\n",
    "        if df.loc[i,'critic_score'].isna() = True:\n",
    "            df.loc[i,'critic_score'] = twenty_to_forty_avg_critic\n",
    "    if df.loc[i,'total_sales'] < ptile_20_sales:\n",
    "        if df.loc[i,'critic_score'].isna() = True:\n",
    "            df.loc[i,'critic_score'] = twenty_below_avg_critic\n",
    "\n",
    "\n",
    "df.info()\n",
    "\n",
    "'''\n",
    "df.query(\"total_sales >= @ptile_80_sales\").fillna(above_eighty_avg_critic, inplace=True)\n",
    "df.query(\"total_sales >= @ptile_60_sales & total_sales < @ptile_80_sales\").fillna(sixty_to_eighty_avg_critic, inplace=True)\n",
    "df.query(\"total_sales >= @ptile_40_sales & total_sales < @ptile_60_sales\").fillna(forty_to_sixty_avg_critic, inplace=True)\n",
    "df.query(\"total_sales >= @ptile_20_sales & total_sales < @ptile_40_sales\").fillna(twenty_to_forty_avg_critic, inplace=True)\n",
    "df.query(\"total_sales < @per_20_sales\").fillna(twenty_below_avg_critic, inplace=True)\n",
    "\n",
    "df_above_80 = df.query(\"total_sales >= @ptile_80_sales\")\n",
    "df_60_to_80 = df.query(\"total_sales >= @ptile_60_sales & total_sales < @ptile_80_sales\")\n",
    "df_40_to_60 = df.query(\"total_sales >= @ptile_40_sales & total_sales < @ptile_60_sales\")\n",
    "df_20_to_40 = df.query(\"total_sales >= @ptile_20_sales & total_sales < @ptile_40_sales\")\n",
    "df_below_20 = df.query(\"total_sales < @per_20_sales\")\n",
    "\n",
    "df_above_80['critic_score'] = df_above_80['critic_score'].fillna(above_eighty_avg_critic)\n",
    "df_above_80['user_score'] = df_above_80['user_score'].fillna(above_eighty_avg_user)\n",
    "\n",
    "df_60_to_80['critic_score'] = df_60_to_80['critic_score'].fillna(sixty_to_eighty_avg_critic)\n",
    "df_60_to_80['user_score'] = df_60_to_80['user_score'].fillna(sixty_to_eighty_avg_user)\n",
    "\n",
    "df_40_to_60['critic_score'] = df_40_to_60['critic_score'].fillna(forty_to_sixty_avg_critic)\n",
    "df_40_to_60['user_score'] = df_40_to_60['user_score'].fillna(forty_to_sixty_avg_user)\n",
    "\n",
    "df_20_to_40['critic_score'] = df_20_to_40['critic_score'].fillna(twenty_to_forty_avg_critic)\n",
    "df_20_to_40['user_score'] = df_20_to_40['user_score'].fillna(twenty_to_forty_avg_user)\n",
    "\n",
    "df_below_20['critic_score'] = df_below_20['critic_score'].fillna(twenty_below_avg_critic)\n",
    "df_below_20['user_score'] = df_below_20 ['user_score'].fillna(twenty_below_avg_user)\n",
    "'''\n"
   ]
  },
  {
   "cell_type": "code",
   "execution_count": 70,
   "metadata": {},
   "outputs": [
    {
     "data": {
      "text/plain": [
       "\"\\n\\n\\ncritic_score_avg = df['critic_score'].median()\\ndf['critic_score'] = df['critic_score'].fillna(critic_score_avg)\\ndf['critic_score'] = df['critic_score'].astype('Int64')\\n\\nuser_score_avg = df['user_score'].median()\\ndf['user_score'] = df['user_score'].fillna(user_score_avg)\\n\\nrating_mode = df['rating'].mode()\\nprint(rating_mode)\\n\""
      ]
     },
     "execution_count": 70,
     "metadata": {},
     "output_type": "execute_result"
    }
   ],
   "source": [
    "'''\n",
    "\n",
    "\n",
    "critic_score_avg = df['critic_score'].median()\n",
    "df['critic_score'] = df['critic_score'].fillna(critic_score_avg)\n",
    "df['critic_score'] = df['critic_score'].astype('Int64')\n",
    "\n",
    "\n",
    "rating_mode = df['rating'].mode()\n",
    "print(rating_mode)\n",
    "'''"
   ]
  }
 ],
 "metadata": {
  "kernelspec": {
   "display_name": "base",
   "language": "python",
   "name": "python3"
  },
  "language_info": {
   "codemirror_mode": {
    "name": "ipython",
    "version": 3
   },
   "file_extension": ".py",
   "mimetype": "text/x-python",
   "name": "python",
   "nbconvert_exporter": "python",
   "pygments_lexer": "ipython3",
   "version": "3.9.13"
  },
  "orig_nbformat": 4,
  "vscode": {
   "interpreter": {
    "hash": "128a52faa6f19e8d897e7a909837098490dae80bb9f013db4ed13fafd5e25653"
   }
  }
 },
 "nbformat": 4,
 "nbformat_minor": 2
}
